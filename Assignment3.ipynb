{
 "cells": [
  {
   "cell_type": "code",
   "execution_count": 47,
   "metadata": {},
   "outputs": [
    {
     "name": "stdout",
     "output_type": "stream",
     "text": [
      "[ 6.5  8.5 10.5 12.5]\n",
      "[-4.5 -4.5 -4.5 -4.5]\n",
      "[ 5.5 13.  22.5 34. ]\n",
      "[0.18181818 0.30769231 0.4        0.47058824]\n"
     ]
    }
   ],
   "source": [
    "import numpy as np\n",
    "x = np.array([1,2,3,4])\n",
    "y = np.array([5.5,6.5,7.5,8.5])\n",
    "a=np.add(x,y)\n",
    "print(a)\n",
    "s=np.subtract(x,y)\n",
    "print(s)\n",
    "m=np.multiply(x,y)\n",
    "print(m)\n",
    "d=np.divide(x,y)\n",
    "print(d)"
   ]
  },
  {
   "cell_type": "code",
   "execution_count": 63,
   "metadata": {},
   "outputs": [
    {
     "name": "stdout",
     "output_type": "stream",
     "text": [
      "sqrt row1\n",
      "[1.         1.41421356]\n",
      "sqrt row2\n",
      "[1.73205081 2.        ]\n",
      "sqrt column1\n",
      "[1.         1.73205081]\n",
      "sqrt column2\n",
      "[1.41421356 2.        ]\n",
      "max row1\n",
      "2\n",
      "max row2\n",
      "4\n",
      "max column1\n",
      "3\n",
      "max column2\n",
      "4\n",
      "min row1\n",
      "1\n",
      "min row2\n",
      "3\n",
      "min column1\n",
      "1\n",
      "min column2\n",
      "2\n",
      "median\n",
      "2.5\n",
      "std\n",
      "1.118033988749895\n",
      "mean\n",
      "2.5\n",
      "exp\n",
      "[[ 2.71828183  7.3890561 ]\n",
      " [20.08553692 54.59815003]]\n"
     ]
    }
   ],
   "source": [
    "X = np.array([[1,2], [3,4]])\n",
    "print(\"sqrt row1\")\n",
    "print(np.sqrt(X)[0,:])\n",
    "print(\"sqrt row2\")\n",
    "print(np.sqrt(X)[1,:])\n",
    "print(\"sqrt column1\")\n",
    "print(np.sqrt(X)[:,0])\n",
    "print(\"sqrt column2\")\n",
    "print(np.sqrt(X)[:,1])\n",
    "print(\"max row1\")\n",
    "print(X[0,:].max())\n",
    "print(\"max row2\")\n",
    "print(X[1,:].max())\n",
    "print(\"max column1\")\n",
    "print(X[:,0].max())\n",
    "print(\"max column2\")\n",
    "print(X[:,1].max())\n",
    "print(\"min row1\")\n",
    "print(X[0,:].min())\n",
    "print(\"min row2\")\n",
    "print(X[1,:].min())\n",
    "print(\"min column1\")\n",
    "print(X[:,0].min())\n",
    "print(\"min column2\")\n",
    "print(X[:,1].min())\n",
    "print(\"median\")\n",
    "print(np.median(X))\n",
    "print(\"std\")\n",
    "print(X.std())\n",
    "print(\"mean\")\n",
    "print(X.mean())\n",
    "print(\"exp\")\n",
    "print(np.exp(X))\n",
    "\n"
   ]
  }
 ],
 "metadata": {
  "kernelspec": {
   "display_name": "Python 3",
   "language": "python",
   "name": "python3"
  },
  "language_info": {
   "codemirror_mode": {
    "name": "ipython",
    "version": 3
   },
   "file_extension": ".py",
   "mimetype": "text/x-python",
   "name": "python",
   "nbconvert_exporter": "python",
   "pygments_lexer": "ipython3",
   "version": "3.7.1"
  }
 },
 "nbformat": 4,
 "nbformat_minor": 2
}
