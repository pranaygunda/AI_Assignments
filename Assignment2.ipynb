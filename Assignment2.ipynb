{
 "cells": [
  {
   "cell_type": "code",
   "execution_count": 1,
   "metadata": {},
   "outputs": [
    {
     "name": "stdout",
     "output_type": "stream",
     "text": [
      "enter the answer50\n",
      "enter the guess100\n",
      "answer is high\n"
     ]
    }
   ],
   "source": [
    "answer=int(input(\"enter the answer\"))\n",
    "guess=int(input(\"enter the guess\"))\n",
    "if guess > answer:\n",
    "    print(\"answer is high\")\n",
    "else:\n",
    "    print(\"answer is low\")\n"
   ]
  },
  {
   "cell_type": "code",
   "execution_count": 1,
   "metadata": {},
   "outputs": [
    {
     "name": "stdout",
     "output_type": "stream",
     "text": [
      "0\n",
      "5\n",
      "10\n",
      "15\n",
      "20\n",
      "25\n",
      "30\n"
     ]
    }
   ],
   "source": [
    "for i in range(10):\n",
    "    if 5*i<=30:\n",
    "        print(5*i)"
   ]
  },
  {
   "cell_type": "code",
   "execution_count": 5,
   "metadata": {},
   "outputs": [
    {
     "name": "stdout",
     "output_type": "stream",
     "text": [
      "enter the limit200\n",
      "196\n"
     ]
    }
   ],
   "source": [
    "integerlimit=int(input(\"enter the limit\"))\n",
    "nearest_square=integerlimit\n",
    "i=0\n",
    "while(nearest_square>0):\n",
    "    a=nearest_square**0.5\n",
    "    if int(a)==float(a):\n",
    "        print(int(a*a))\n",
    "        break\n",
    "    else:\n",
    "        nearest_square-=1\n",
    "\n"
   ]
  },
  {
   "cell_type": "code",
   "execution_count": null,
   "metadata": {},
   "outputs": [],
   "source": []
  }
 ],
 "metadata": {
  "kernelspec": {
   "display_name": "Python 3",
   "language": "python",
   "name": "python3"
  },
  "language_info": {
   "codemirror_mode": {
    "name": "ipython",
    "version": 3
   },
   "file_extension": ".py",
   "mimetype": "text/x-python",
   "name": "python",
   "nbconvert_exporter": "python",
   "pygments_lexer": "ipython3",
   "version": "3.7.1"
  }
 },
 "nbformat": 4,
 "nbformat_minor": 2
}
